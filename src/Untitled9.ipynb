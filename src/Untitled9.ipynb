{
 "cells": [
  {
   "cell_type": "code",
   "execution_count": 82,
   "id": "99f91e8a-af34-4bcb-b260-fc90bfeab107",
   "metadata": {},
   "outputs": [],
   "source": [
    "import torch\n",
    "import torchvision\n",
    "import os\n",
    "from torchvision import transforms\n",
    "from os import path, mkdir\n",
    "from PIL import Image\n",
    "import random\n",
    "\n",
    "\n",
    "images = 16\n",
    "background = 125\n",
    "char  = 3\n",
    "count = 0\n",
    "char_size = 150\n",
    "for i in range(images):\n",
    "    for x in range(2):\n",
    "        bg_rand = np.random.randint(1, background + 1)\n",
    "        bgString = 'Background/nature ({}) (Copy).jpg'.format(bg_rand)\n",
    "        char_rand = np.random.randint(0, char)\n",
    "        size_rand = np.random.randint(50, char_size)\n",
    "        if x == 0:\n",
    "            charString = 'Waldo/char{}.png'.format(char_rand)\n",
    "        else:\n",
    "            charString = 'NotWaldo/notchar{}.png'.format(char_rand)\n",
    "        bg = Image.open(bgString).convert(\"RGBA\")\n",
    "        bg_x, bg_y = bg.size\n",
    "        im = Image.open(charString)\n",
    "        im = im.resize((size_rand,size_rand))\n",
    "        im_x, im_y = im.size\n",
    "        rand_x = random.randint(0, bg_x-im_x)\n",
    "        rand_y = random.randint(0, bg_y-im_y)\n",
    "        #rand_x = random.randint(100, 200)\n",
    "        #rand_y = random.randint(100, 200)\n",
    "        bg.paste(im,(rand_x,rand_y),mask=im)\n",
    "        output_folder = 'test'\n",
    "        output_filename = 'test{}.png'.format(count)  # Specify the desired output file name with the .png extension\n",
    "        output_path = os.path.join(output_folder, output_filename)\n",
    "        #print(count)\n",
    "        if os.path.exists(output_path):\n",
    "            os.chmod(output_path, 0o777)\n",
    "        bg.save(output_path, \"PNG\")\n",
    "        count += 1"
   ]
  },
  {
   "cell_type": "code",
   "execution_count": null,
   "id": "8e2ea7d3-b154-4f8c-8f9e-a43ad0d7dfea",
   "metadata": {},
   "outputs": [],
   "source": []
  }
 ],
 "metadata": {
  "kernelspec": {
   "display_name": "Python 3 (ipykernel)",
   "language": "python",
   "name": "python3"
  },
  "language_info": {
   "codemirror_mode": {
    "name": "ipython",
    "version": 3
   },
   "file_extension": ".py",
   "mimetype": "text/x-python",
   "name": "python",
   "nbconvert_exporter": "python",
   "pygments_lexer": "ipython3",
   "version": "3.9.13"
  }
 },
 "nbformat": 4,
 "nbformat_minor": 5
}
