{
 "cells": [
  {
   "cell_type": "code",
   "execution_count": 3,
   "id": "99f91e8a-af34-4bcb-b260-fc90bfeab107",
   "metadata": {},
   "outputs": [],
   "source": [
    "import torch\n",
    "import torchvision\n",
    "import os\n",
    "from torchvision import transforms\n",
    "from os import path, mkdir\n",
    "from PIL import Image, ImageOps\n",
    "import random\n",
    "import numpy as np\n",
    "from torch.utils.data import Dataset, DataLoader\n",
    "\n",
    "convert_tensor = transforms.ToTensor()\n",
    "images = 16 #Amount of images you want to generate. Can be modified\n",
    "background = 125\n",
    "char  = 3\n",
    "count = 0\n",
    "min_char_size = 50\n",
    "max_char_size = 150\n",
    "dataset = []\n",
    "for i in range(images):\n",
    "    bg_rand = np.random.randint(1, background + 1)\n",
    "    bgString = '../data/background/nature ({}) (Copy).jpg'.format(bg_rand)\n",
    "    char_rand = np.random.randint(0, char)\n",
    "    size_rand = np.random.randint(min_char_size, max_char_size)\n",
    "    if i%2 == 0:\n",
    "        charString = '../data/waldo/char{}.png'.format(char_rand)\n",
    "        label = torch.tensor([1, 0], dtype=torch.int32)\n",
    "    else:\n",
    "        charString = '../data/cat/notchar{}.png'.format(char_rand)\n",
    "        label = torch.tensor([0, 1], dtype=torch.int32)\n",
    "    bg = Image.open(bgString).convert(\"RGBA\")\n",
    "    bg_x, bg_y = bg.size\n",
    "    im = Image.open(charString)\n",
    "    im = im.resize((size_rand,size_rand))\n",
    "    rand_pert = np.random.randint(0, 4)\n",
    "    if rand_pert == 0:\n",
    "        im = ImageOps.flip(im)\n",
    "    elif rand_pert == 1:\n",
    "        im = ImageOps.mirror(im)\n",
    "    elif rand_pert == 2:\n",
    "        im = ImageOps.flip(im)\n",
    "        im = ImageOps.mirror(im)\n",
    "    im_x, im_y = im.size\n",
    "    rand_x = random.randint(0, bg_x-im_x)\n",
    "    rand_y = random.randint(0, bg_y-im_y)\n",
    "    bg.paste(im,(rand_x,rand_y),mask=im)\n",
    "    bg_tensor = convert_tensor(bg)\n",
    "    dataset.append((bg_tensor,label))\n",
    "    #output_folder = 'test'\n",
    "    #output_filename = 'test{}.png'.format(count)  # Specify the desired output file name with the .png extension\n",
    "    #output_path = os.path.join(output_folder, output_filename)\n",
    "    #if os.path.exists(output_path):\n",
    "    #    os.chmod(output_path, 0o777)\n",
    "    #bg.save(output_path, \"PNG\")\n",
    "    count += 1\n",
    "        \n",
    "class CustomDataset(Dataset):\n",
    "    def __init__(self, data):\n",
    "        self.data = data\n",
    "\n",
    "    def __len__(self):\n",
    "        return len(self.data)\n",
    "\n",
    "    def __getitem__(self, index):\n",
    "        image, label = self.data[index]\n",
    "        return image, label\n",
    "    \n",
    "# Convert your dataset list to a CustomDataset object\n",
    "custom_dataset = CustomDataset(dataset)\n",
    "\n",
    "\n"
   ]
  },
  {
   "cell_type": "code",
   "execution_count": 6,
   "id": "8acc0c58",
   "metadata": {},
   "outputs": [
    {
     "name": "stdout",
     "output_type": "stream",
     "text": [
      "tensor([[1, 0],\n",
      "        [0, 1],\n",
      "        [1, 0],\n",
      "        [0, 1]], dtype=torch.int32)\n",
      "tensor([[1, 0],\n",
      "        [0, 1],\n",
      "        [1, 0],\n",
      "        [0, 1]], dtype=torch.int32)\n",
      "tensor([[1, 0],\n",
      "        [0, 1],\n",
      "        [1, 0],\n",
      "        [0, 1]], dtype=torch.int32)\n",
      "tensor([[1, 0],\n",
      "        [0, 1],\n",
      "        [1, 0],\n",
      "        [0, 1]], dtype=torch.int32)\n"
     ]
    }
   ],
   "source": [
    "batch_size = 4  # You can adjust this according to your needs\n",
    "data_loader = DataLoader(custom_dataset, batch_size=batch_size, shuffle=False)\n",
    "for images, labels in data_loader:\n",
    "    print(labels)"
   ]
  },
  {
   "cell_type": "code",
   "execution_count": null,
   "id": "4cd3f2a4",
   "metadata": {},
   "outputs": [],
   "source": []
  }
 ],
 "metadata": {
  "kernelspec": {
   "display_name": "base",
   "language": "python",
   "name": "python3"
  },
  "language_info": {
   "codemirror_mode": {
    "name": "ipython",
    "version": 3
   },
   "file_extension": ".py",
   "mimetype": "text/x-python",
   "name": "python",
   "nbconvert_exporter": "python",
   "pygments_lexer": "ipython3",
   "version": "3.9.13"
  }
 },
 "nbformat": 4,
 "nbformat_minor": 5
}
